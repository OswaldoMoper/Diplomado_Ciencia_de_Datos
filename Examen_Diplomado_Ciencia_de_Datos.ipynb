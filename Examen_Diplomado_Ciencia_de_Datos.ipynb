{
  "nbformat": 4,
  "nbformat_minor": 0,
  "metadata": {
    "colab": {
      "provenance": [],
      "include_colab_link": true
    },
    "kernelspec": {
      "name": "python3",
      "display_name": "Python 3"
    },
    "language_info": {
      "name": "python"
    }
  },
  "cells": [
    {
      "cell_type": "markdown",
      "metadata": {
        "id": "view-in-github",
        "colab_type": "text"
      },
      "source": [
        "<a href=\"https://colab.research.google.com/github/OswaldoMoper/Mathematical_Data_Analysis/blob/master/Examen_Diplomado_Ciencia_de_Datos.ipynb\" target=\"_parent\"><img src=\"https://colab.research.google.com/assets/colab-badge.svg\" alt=\"Open In Colab\"/></a>"
      ]
    },
    {
      "cell_type": "markdown",
      "source": [
        "# DIPLOMADO CIENCIA MATEMÁTICA DE DATOS\n",
        "\n",
        "## Examen"
      ],
      "metadata": {
        "id": "bGO8EYrcFJIH"
      }
    },
    {
      "cell_type": "markdown",
      "source": [
        "### Examen Teórico"
      ],
      "metadata": {
        "id": "6lftyDPLFjpW"
      }
    },
    {
      "cell_type": "markdown",
      "source": [
        "**Instrucciones**\n",
        "\n",
        "Contesta las siguientes."
      ],
      "metadata": {
        "id": "1g5B7k3wFOOQ"
      }
    },
    {
      "cell_type": "markdown",
      "source": [
        "1. ¿Cuál es la diferencia entre Data Analysis y Data Science?"
      ],
      "metadata": {
        "id": "kmrulhc7GDfU"
      }
    },
    {
      "cell_type": "markdown",
      "source": [
        "**R.** El área de **Data Analysis** busca hacer una exploración, limpieza, transformación y visualización de los datos, con el fin de comprenderlos y proporcionar información de estos. Los resultados se pueden presentar como descripciones de los datos o como conclusiones basadas en dichos datos.\n",
        "\n",
        "Por otro lado, **Data Science** es el procesamiento, análisis y modelado de los datos, con el fin de encontrar patrones ocultos a simple vista o predecir resultados. Los resultados suelen mostrarse como modelos de *predicción*, *clasificación*, *agrupamiento*, *recomendación*, etc."
      ],
      "metadata": {
        "id": "ocaDYWfoGhuE"
      }
    },
    {
      "cell_type": "markdown",
      "source": [
        "2. ¿Cuál es el proposito del análisis exploratorio?"
      ],
      "metadata": {
        "id": "Lb65yZ_VGLTb"
      }
    },
    {
      "cell_type": "markdown",
      "source": [
        "**R.** El propósito de un análisis exploratorio, es conocer los datos:\n",
        "*   Verificar posibles errores, como datos inexistentes o incorrectos, y distinguir patrones que se presentan en los datos.\n",
        "*   Revisar la existencia de valores atípicos y su relación con el contexto de los datos, con el fin de conocer si podemos prescindir de ellos para una transformación/visualización de los datos.\n",
        "*   Averiguar como es la relación entre las variables, a fin de dar una mejor descripción de estos.\n",
        "*   Calificar hipótesis, ya sea por medio de la tablas descriptivas o gráficas.\n",
        "Lo que nos ayuda a dar un mejor contexto de los datos y por tanto mejores conclusiones y/o mejores modelos a partir de estos.\n",
        "\n",
        "\n",
        "\n"
      ],
      "metadata": {
        "id": "Fm1K7wWQGizb"
      }
    },
    {
      "cell_type": "markdown",
      "source": [
        "3. ¿Cuáles son los problemas más comunes que uno encuentra en el análisis de datos?"
      ],
      "metadata": {
        "id": "0QbzTLIZGkBP"
      }
    },
    {
      "cell_type": "markdown",
      "source": [
        "**R.**\n",
        "* Datos con formato erróneo, atípicos o inconsistentes.\n",
        "* Datos incompletos, ya sea por su invalidez o una mala estructuración.\n",
        "* Datos duplicados\n",
        "* Datos desactualizados, puede ser que falten resultados recientes o que los resultados del dataset no representen la realidad actual."
      ],
      "metadata": {
        "id": "h0QBPk28HAjA"
      }
    },
    {
      "cell_type": "markdown",
      "source": [
        "4. ¿Cuáles son los pasos en un proyecto de análisis de datos?\n"
      ],
      "metadata": {
        "id": "6hrPKolMHKnm"
      }
    },
    {
      "cell_type": "markdown",
      "source": [
        "**R.**\n",
        "1.   Recopilación de datos, ¿Qué es lo que queremos analizar?\n",
        "2.   Limpieza de los datos, eliminación de datos (variables) innecesarios, corrección de errores y formateo de los datos.\n",
        "3.   Transformación de los datos, realizar tablas descriptivas, gráficas de barras o histogramas es de gran ayuda para poder identificar relaciones y patrones en el dataset.\n",
        "4.   Interpretación/Conclusión, ¿Qué nos dicen los resultados de los datos? ¿Qué podemos hacer con las relaciones/patrones que encontramos? ¿Qué preguntas o problemas podemos plantear/resolver con estos datos?\n"
      ],
      "metadata": {
        "id": "lJaOeZ3EHTt7"
      }
    },
    {
      "cell_type": "markdown",
      "source": [
        "5. ¿Cuáles son las diferencias en Aprendizaje Supervisado y Aprendizaje No Supervisado?"
      ],
      "metadata": {
        "id": "4gRh3IkoH4Ub"
      }
    },
    {
      "cell_type": "markdown",
      "source": [
        "**R.** En el **Aprendizaje Supervisado** los modelos son entrenados con un conjunto de datos etiquetados, mientras que en el **Aprendizaje No Supervisado** los modelos son los que identifican patrones/relaciones en los datos."
      ],
      "metadata": {
        "id": "qNOKt9X2IEpt"
      }
    },
    {
      "cell_type": "markdown",
      "source": [
        "6. ¿Qué es Reducción de Dimensiones y cuáles son sus beneficios?"
      ],
      "metadata": {
        "id": "x-WwOJXHIJSN"
      }
    },
    {
      "cell_type": "markdown",
      "source": [
        "**R.** Es una herramienta de aprendizaje no supervisado que nos permite reducir las variables de un conjunto de datos. Dado que reduce el número de variables, nos permite reducir la complejidad y tiempo de entrenamiento al usar algún otro modelo manteniendo una buena representación de los datos.\n",
        "\n",
        "Es una analogía a una proyección de un hiperespacio de dimensión m a un hiperespacio de dimensión n (m > n)"
      ],
      "metadata": {
        "id": "Q-0fxMcPIfbT"
      }
    },
    {
      "cell_type": "markdown",
      "source": [
        "7. ¿Qué son los sistemas de recomendación?"
      ],
      "metadata": {
        "id": "utdZJ92-IjLw"
      }
    },
    {
      "cell_type": "markdown",
      "source": [
        "**R.** Es un herramienta que dadas ciertas variables de los usuarios realiza predicciones de productos o servicios que podrían ser de utilidad o valor para los usuarios. Por ejemplo, dado que yo escucho Cover's Bossa Nova cada cierto tiempo en Spotify, el algoritmo de Spotify podría poner Bossa Nova o Jazz en alguna de mis playlists diarias, tomando en cuenta el tiempo de reproducción y la interacción que tengo con los botones de anterior y siguiente."
      ],
      "metadata": {
        "id": "e-lPzVd0I1ma"
      }
    },
    {
      "cell_type": "markdown",
      "source": [
        "8. ¿Qué es clustering y para qué sirve en la ciencia de datos?"
      ],
      "metadata": {
        "id": "dqKbbKfUI5Bp"
      }
    },
    {
      "cell_type": "markdown",
      "source": [
        "**R.** El clustering consiste en realizar agrupaciones de un conjunto en subconjuntos a los que llamamos clusters. Y en ciencia de datos esto se usa para la creación de modelos de clasificación."
      ],
      "metadata": {
        "id": "IXdUFdcBJNhT"
      }
    },
    {
      "cell_type": "markdown",
      "source": [
        "9. ¿Cómo puedo elegir el mejor valor de K para K-Means?"
      ],
      "metadata": {
        "id": "EbIf8rx5JQpg"
      }
    },
    {
      "cell_type": "markdown",
      "source": [
        "**R.** Para seleccionar el mejor valor K cuando usamos el metodo K-Means, podemos utlizar alguna de las siguientes técnicas:\n",
        "*   **Método del Codo:**\n",
        " * Primero debemos calcular la suma de las distancias al cuadrado entre los puntos.\n",
        " * Gráficamos en función de K y buscamos el punto donde la curva cambia drásticamente su pendiente (donde se forma el codo), este será el valor óptimo de K.\n",
        " * Este método se basa mucho en la visualización.\n",
        "y su centroide para distintos valores de K.\n",
        "*   **Silhouette Score**:\n",
        " * Primero debemos calcular la similitud de un punto con su propio cluster en comparación con otros clusteres.\n",
        " * El valor de K que tenga la puntuación más cercana a 1, será el valor óptimo.\n",
        " * Podemos gráficar para visualizar como cambia el score para cada valor de K.\n",
        "\n"
      ],
      "metadata": {
        "id": "FZenIgOAJabi"
      }
    },
    {
      "cell_type": "markdown",
      "source": [
        "10. ¿Cuál es la diferencia entre los modelos de clasificación y los modelos de regresión?"
      ],
      "metadata": {
        "id": "4xHhvxOjJhd6"
      }
    },
    {
      "cell_type": "markdown",
      "source": [
        "**R.** La diferencia está en que los modelos de regresión nos ayudan a predecir variables numéricas continuas, como precios de casas, ingresos promedio, etc.\n",
        "\n",
        "Mientras que los modelos de clasificación nos ayudan a, valga la redundancia, clasificar datos con variables categóricas, como la especie a la que pertenece una flor dadas sus dimensiones, la posición final de un piloto en una carrera dado su historial de carreras, etc."
      ],
      "metadata": {
        "id": "1S2TgL87JsF2"
      }
    },
    {
      "cell_type": "markdown",
      "source": [
        "11. Menciona dos métricas de evaluación para los modelos de regresión y cómo se interpretan."
      ],
      "metadata": {
        "id": "FCWH-14tKArv"
      }
    },
    {
      "cell_type": "markdown",
      "source": [
        "**R.**\n",
        "\n",
        "1.   **Error cuadrático medio (RMSE):** Es la raíz cuadrada del error cuadrático medio entre los valores predichos y los valores reales. Por lo que, entre más cercano al 0, significa un mejor ajuste del modelo con el dataset.\n",
        "\n",
        "  Por ejemplo, si el RMSE es igual a 100, para magnitudes de millones, nos estaría hablando de un modelo regular. Mientras que ese mismo RMSE, para valores de cientos, no estaría avisando de un mal modelo.\n",
        "2.   **Coeficiente de determinación o r²:** este nmos ayuda a saber que tanto se ajusta un modelo a los datos. Este coeficiente varía entre 0 y 1, siendo que 1 indica que el modelo se ajusta en un 100%, mientras que un valor cercano a 0, o 0, indica que el modelo no se ajusta fielmente a los datos.\n",
        "\n"
      ],
      "metadata": {
        "id": "8Nc8rZ7vKM8X"
      }
    },
    {
      "cell_type": "markdown",
      "source": [
        "12. ¿Qué es una matriz de confusión? ¿Cuáles métricas de evaluación podemos calcular con ella?"
      ],
      "metadata": {
        "id": "YSMHMt2vKPXd"
      }
    },
    {
      "cell_type": "markdown",
      "source": [
        "**R.** Una matriz de confución es una tabla que compara los valores reales con los valores predichos de un modelos de clasificación. Con los datos que nos muestra la matriz de confución podemos calcular:\n",
        "* Exactitud: proporción de predicciones correctas, sobre el total.\n",
        "* Precision: proporción de verdaderos positivos, sobre total de predicciones positivas.\n",
        "* Recall: proporción de verdaderos positivos, sobre total de positivos.\n",
        "* Especificidad: proporción de verdaderos negativos, sobre total de negativos.\n",
        "* F1-score: Media armónica entre precisión y recall.\n",
        "\n"
      ],
      "metadata": {
        "id": "N1mJECuQKgbw"
      }
    },
    {
      "cell_type": "markdown",
      "source": [
        "13. Menciona las diferencias entre \"correlación\" y \"causalidad\"."
      ],
      "metadata": {
        "id": "26kt-kkPKjwI"
      }
    },
    {
      "cell_type": "markdown",
      "source": [
        "**R.** La causalidad nos habla de que una variable **causa** un cambio en otra, por ejemplo, dormir menos causará una disminución en tu energía durante el día.\n",
        "\n",
        "Mientras que la correlación puede ser causal o no, por ejemplo, si Charles Leclerc obtiene la Pole Position esto no causará que el gane el GP de Mónaco."
      ],
      "metadata": {
        "id": "a98e8ZvIK_XX"
      }
    },
    {
      "cell_type": "markdown",
      "source": [
        "14. ¿Qué es Deep Learning?"
      ],
      "metadata": {
        "id": "RnmxZPwsLSDg"
      }
    },
    {
      "cell_type": "markdown",
      "source": [
        "**R.** Es un modelo de aprendizaje que utiliza redes neuronales, emulando el funcionamiento del cerebro humano al procesar por modulos los conjuntos de datos."
      ],
      "metadata": {
        "id": "F7JfYLFsLPhW"
      }
    },
    {
      "cell_type": "markdown",
      "source": [
        "15. ¿Qué es un perceptrón?"
      ],
      "metadata": {
        "id": "vf_JAh03LCps"
      }
    },
    {
      "cell_type": "markdown",
      "source": [
        "**R.** Es una neurona artificial que es utilizada en el Aprendizaje Supervisado, es en sí mismo la red neuronal más simple. De manera similar a como funcionaría una neurona, recibe un estimulo y regresa un refuerzo. En este caso el estimulo sería un conjunto de características y el refuerzo sería el cálculo de un sálida/clasificación."
      ],
      "metadata": {
        "id": "R8qiwdg5LWIJ"
      }
    },
    {
      "cell_type": "markdown",
      "source": [
        "16. ¿Qué es el procesamiento de lenguaje natural (NLP) y cómo se aplica en ciencia de datos?"
      ],
      "metadata": {
        "id": "qXvZAwiYLgTQ"
      }
    },
    {
      "cell_type": "markdown",
      "source": [
        "**R.** Es una rama de la Inteligencia Artificial que tiene como objetivo el que las máquinas puedan interpretar y manipular el lenguaje de los humanos y así poder realizar alguna acción o valoración.\n",
        "En ciencia de datos se usa para:\n",
        "* Analisis de texto, leer y comprender textos.\n",
        "* Procesamiento de Voz, lo que se ocupa para hacer funcionar a los asistentes virtuales\n",
        "* Analisis de Sentimientos: Determinar pesos emocionales en textos\n",
        "* Traducciones automáticas: como la que implementó Samsung en el S24 Ultra para llamadas en distintos idiomas.\n",
        "* Generación de texto: Como lo que hace Chat GPT o Copilot"
      ],
      "metadata": {
        "id": "dytOZxPpLzjB"
      }
    },
    {
      "cell_type": "markdown",
      "source": [
        "17. ¿Cuál es el mejor modelo de clasificación para NLP y por qué?"
      ],
      "metadata": {
        "id": "lsfijvouL2j2"
      }
    },
    {
      "cell_type": "markdown",
      "source": [
        "**R.**"
      ],
      "metadata": {
        "id": "RHoJdO-JMOs_"
      }
    },
    {
      "cell_type": "markdown",
      "source": [
        "18. Menciona 3 casos de usos para Machine Learning."
      ],
      "metadata": {
        "id": "p2QfEf6gMWld"
      }
    },
    {
      "cell_type": "markdown",
      "source": [
        "**R.**\n",
        "1.   **Sistemas de recomendación:** Empresas como Amazon, Mercado Libre, Youtube y Spotify, usan Machine Learning para mantener más \"contento\"/atento a los usuarios, en el caso de Amazon y Mercado Libre, realizando recomendaciones y ofertas basadas en tus busquedas y compras. En el caso de Youtube y Spotify, dado tu historial te proponen y notifican sobre nuevas canciones o videos que podrían ser de tu interés.\n",
        "2.   **Reconocimiento de texto:** Aplicaciones como Google Lens, pueden traducir o transcribir textos por medio de imágenes.\n",
        "3.   **Reconocimiento de Voz:** Los asistentes virtuales pueden reconocer comandos y diferenciar personas respondiendo de manera personalizada gracias al uso de Machine Learning.\n",
        "\n"
      ],
      "metadata": {
        "id": "xVMg2hT1MtPZ"
      }
    },
    {
      "cell_type": "markdown",
      "source": [
        "19. Menciona 2 modelos de predicción y describe brevemente cómo funcionan."
      ],
      "metadata": {
        "id": "KjGeW_AVMv0b"
      }
    },
    {
      "cell_type": "markdown",
      "source": [
        "**R.**\n",
        "\n",
        "1.   **DecisionTreeRegresor:** Es un modelo que distribuye los patrones de un conjunto de datos por medio de condicionales para así generar un valor de predicción. Tal cual como un diagrama de Flujo.\n",
        "2.   **RandomForest:** Tomemos varios subconjutos del dataset, para cada subconjunto construyamos un arbol de decision. La conjunción de cada uno de estos arboles de decision será un bosque aleatorio. Cada arbol habrá sido entrenado de manera independiente por lo que se podrían minimizar sesgos de dependencia y mejorar las prediciones al ser estas una combinación de todos los resultados de cada arbol.\n",
        "\n"
      ],
      "metadata": {
        "id": "_E3Yu7IMM4nd"
      }
    },
    {
      "cell_type": "markdown",
      "source": [
        "20. Menciona 2 modelos de clasificación y describe brevemente cómo funcionan."
      ],
      "metadata": {
        "id": "_YIgj7IcM8Qn"
      }
    },
    {
      "cell_type": "markdown",
      "source": [
        "**R.**\n",
        "\n",
        "1.   **K-Nearest Neighbors:** Toma características medibles (altura, peso, grosor, fuerza, etc) de los datos, y definiendo alguna distancia toma los K puntos más cercanos en el espacio de las características para clasificar basandose en las etiquetas de estos K vecinos.\n",
        "2.   **Naive Bayes:** En este modelo suponemos que todas las variables son independientes y aplicamos la regla de Bayes para asignar una etiqueta de clasificación. Es decir, damos una clasificación A tomando la probabilidad de que A sea correcto dado que la característica C1 sea parecida a C2.\n"
      ],
      "metadata": {
        "id": "3uoeAuRhNAj_"
      }
    },
    {
      "cell_type": "markdown",
      "source": [
        "### Examen Práctico\n"
      ],
      "metadata": {
        "id": "zLcEiKMnNMWw"
      }
    },
    {
      "cell_type": "markdown",
      "source": [
        "**Instrucciones**\n",
        "Escoge uno de los siguientes datasets, descárgalo, define un problema a resolver y utilízalo para aplicar el modelo de Data Science que mejor creas.\n",
        "* *Bike Sharing Dataset:* https://archive.ics.uci.edu/dataset/275/bike+sharing+dataset\n",
        "* *Stock Market Dataset:* https://www.kaggle.com/datasets/jacksoncrow/stock-market-dataset\n",
        "* *Titanic Dataset:* https://www.kaggle.com/c/titanic/data\n",
        "* *Spam Email Dataset:* https://archive.ics.uci.edu/dataset/94/spambase\n",
        "* *Book-Crossing Dataset:* https://www.kaggle.com/datasets/somnambwl/bookcrossing-dataset\n",
        "* *Twitter Dataset:* https://www.kaggle.com/datasets/jp797498e/twitter-entity-sentiment-analysis"
      ],
      "metadata": {
        "id": "Wp5i94eIN6Rc"
      }
    },
    {
      "cell_type": "markdown",
      "source": [
        "#### **Explicación del problema**"
      ],
      "metadata": {
        "id": "InNdsiBmPQqn"
      }
    },
    {
      "cell_type": "markdown",
      "source": [
        "**R.** El dataset del Titanic incluye información como\n",
        "* Sobrevivió: Sí o no\n",
        "* Clase del Ticket: 1,2,3\n",
        "* Sexo del pasajero:\n",
        "* Edad\n",
        "* Numero de Relaciones familiares horizontales (sibsp)\n",
        "* Número de Relaciones familiares verticales (parch)\n",
        "* folio del ticket\n",
        "* Número de cabina\n",
        "* Puerto de embarcación\n",
        "\n",
        "A mi me gustaría analizar si es posible predecir si sobrevivió dado el sexo y suma de relaciones familiares, pues imagino que entre más familia menos probable que sobreviva si es hombre por la norma de niños y mujeres primeros\n"
      ],
      "metadata": {
        "id": "nAWO44z1QDKp"
      }
    },
    {
      "cell_type": "markdown",
      "source": [
        "#### **Código**"
      ],
      "metadata": {
        "id": "cNlqk8kVQFhh"
      }
    },
    {
      "cell_type": "code",
      "execution_count": 1,
      "metadata": {
        "id": "s47RBd7pFD2z",
        "colab": {
          "base_uri": "https://localhost:8080/"
        },
        "outputId": "5eb1004b-a5c5-4d16-b0fb-a7087f308d1c"
      },
      "outputs": [
        {
          "output_type": "stream",
          "name": "stdout",
          "text": [
            "Mounted at /content/drive\n",
            "/content/drive/ My Drive/Diplomado/Examen\n"
          ]
        }
      ],
      "source": [
        "from google.colab import drive\n",
        "drive.mount('/content/drive')\n",
        "%cd /content/drive/ My \\Drive/Diplomado/Examen"
      ]
    },
    {
      "cell_type": "code",
      "source": [
        "import pandas as pd\n",
        "from pandas.api.types import CategoricalDtype\n",
        "import numpy as np\n",
        "from datetime import datetime, date\n",
        "import plotly.express as px\n",
        "import plotly.graph_objs as go\n",
        "from plotly.subplots import make_subplots\n",
        "import matplotlib.pyplot as plt"
      ],
      "metadata": {
        "id": "8VKSTv_WzAVb"
      },
      "execution_count": 3,
      "outputs": []
    },
    {
      "cell_type": "code",
      "source": [
        "from sklearn.ensemble import RandomForestRegressor, RandomForestClassifier\n",
        "from sklearn.svm import SVR\n",
        "from sklearn.tree import DecisionTreeRegressor, plot_tree\n",
        "\n",
        "from sklearn.preprocessing import StandardScaler\n",
        "from sklearn.metrics import mean_squared_error, r2_score\n",
        "from sklearn.model_selection import GridSearchCV"
      ],
      "metadata": {
        "id": "j_jh0eErzBF0"
      },
      "execution_count": 4,
      "outputs": []
    },
    {
      "cell_type": "code",
      "source": [
        "test = pd.read_csv('test.csv')\n",
        "train = pd.read_csv('train.csv')\n",
        "y_test = pd.read_csv('gender_submission.csv')"
      ],
      "metadata": {
        "id": "f-4TBHCnyzdy"
      },
      "execution_count": 52,
      "outputs": []
    },
    {
      "cell_type": "code",
      "source": [
        "train.head()"
      ],
      "metadata": {
        "colab": {
          "base_uri": "https://localhost:8080/",
          "height": 206
        },
        "id": "g4_cgOlp0Fyu",
        "outputId": "db91776d-ee6c-46c4-acec-b0c27fe47fa8"
      },
      "execution_count": 10,
      "outputs": [
        {
          "output_type": "execute_result",
          "data": {
            "text/plain": [
              "   PassengerId  Survived  Pclass  \\\n",
              "0            1         0       3   \n",
              "1            2         1       1   \n",
              "2            3         1       3   \n",
              "3            4         1       1   \n",
              "4            5         0       3   \n",
              "\n",
              "                                                Name     Sex   Age  SibSp  \\\n",
              "0                            Braund, Mr. Owen Harris    male  22.0      1   \n",
              "1  Cumings, Mrs. John Bradley (Florence Briggs Th...  female  38.0      1   \n",
              "2                             Heikkinen, Miss. Laina  female  26.0      0   \n",
              "3       Futrelle, Mrs. Jacques Heath (Lily May Peel)  female  35.0      1   \n",
              "4                           Allen, Mr. William Henry    male  35.0      0   \n",
              "\n",
              "   Parch            Ticket     Fare Cabin Embarked  \n",
              "0      0         A/5 21171   7.2500   NaN        S  \n",
              "1      0          PC 17599  71.2833   C85        C  \n",
              "2      0  STON/O2. 3101282   7.9250   NaN        S  \n",
              "3      0            113803  53.1000  C123        S  \n",
              "4      0            373450   8.0500   NaN        S  "
            ],
            "text/html": [
              "\n",
              "  <div id=\"df-c1e71b0f-5e71-4efa-9a4f-8e7c7b4db116\" class=\"colab-df-container\">\n",
              "    <div>\n",
              "<style scoped>\n",
              "    .dataframe tbody tr th:only-of-type {\n",
              "        vertical-align: middle;\n",
              "    }\n",
              "\n",
              "    .dataframe tbody tr th {\n",
              "        vertical-align: top;\n",
              "    }\n",
              "\n",
              "    .dataframe thead th {\n",
              "        text-align: right;\n",
              "    }\n",
              "</style>\n",
              "<table border=\"1\" class=\"dataframe\">\n",
              "  <thead>\n",
              "    <tr style=\"text-align: right;\">\n",
              "      <th></th>\n",
              "      <th>PassengerId</th>\n",
              "      <th>Survived</th>\n",
              "      <th>Pclass</th>\n",
              "      <th>Name</th>\n",
              "      <th>Sex</th>\n",
              "      <th>Age</th>\n",
              "      <th>SibSp</th>\n",
              "      <th>Parch</th>\n",
              "      <th>Ticket</th>\n",
              "      <th>Fare</th>\n",
              "      <th>Cabin</th>\n",
              "      <th>Embarked</th>\n",
              "    </tr>\n",
              "  </thead>\n",
              "  <tbody>\n",
              "    <tr>\n",
              "      <th>0</th>\n",
              "      <td>1</td>\n",
              "      <td>0</td>\n",
              "      <td>3</td>\n",
              "      <td>Braund, Mr. Owen Harris</td>\n",
              "      <td>male</td>\n",
              "      <td>22.0</td>\n",
              "      <td>1</td>\n",
              "      <td>0</td>\n",
              "      <td>A/5 21171</td>\n",
              "      <td>7.2500</td>\n",
              "      <td>NaN</td>\n",
              "      <td>S</td>\n",
              "    </tr>\n",
              "    <tr>\n",
              "      <th>1</th>\n",
              "      <td>2</td>\n",
              "      <td>1</td>\n",
              "      <td>1</td>\n",
              "      <td>Cumings, Mrs. John Bradley (Florence Briggs Th...</td>\n",
              "      <td>female</td>\n",
              "      <td>38.0</td>\n",
              "      <td>1</td>\n",
              "      <td>0</td>\n",
              "      <td>PC 17599</td>\n",
              "      <td>71.2833</td>\n",
              "      <td>C85</td>\n",
              "      <td>C</td>\n",
              "    </tr>\n",
              "    <tr>\n",
              "      <th>2</th>\n",
              "      <td>3</td>\n",
              "      <td>1</td>\n",
              "      <td>3</td>\n",
              "      <td>Heikkinen, Miss. Laina</td>\n",
              "      <td>female</td>\n",
              "      <td>26.0</td>\n",
              "      <td>0</td>\n",
              "      <td>0</td>\n",
              "      <td>STON/O2. 3101282</td>\n",
              "      <td>7.9250</td>\n",
              "      <td>NaN</td>\n",
              "      <td>S</td>\n",
              "    </tr>\n",
              "    <tr>\n",
              "      <th>3</th>\n",
              "      <td>4</td>\n",
              "      <td>1</td>\n",
              "      <td>1</td>\n",
              "      <td>Futrelle, Mrs. Jacques Heath (Lily May Peel)</td>\n",
              "      <td>female</td>\n",
              "      <td>35.0</td>\n",
              "      <td>1</td>\n",
              "      <td>0</td>\n",
              "      <td>113803</td>\n",
              "      <td>53.1000</td>\n",
              "      <td>C123</td>\n",
              "      <td>S</td>\n",
              "    </tr>\n",
              "    <tr>\n",
              "      <th>4</th>\n",
              "      <td>5</td>\n",
              "      <td>0</td>\n",
              "      <td>3</td>\n",
              "      <td>Allen, Mr. William Henry</td>\n",
              "      <td>male</td>\n",
              "      <td>35.0</td>\n",
              "      <td>0</td>\n",
              "      <td>0</td>\n",
              "      <td>373450</td>\n",
              "      <td>8.0500</td>\n",
              "      <td>NaN</td>\n",
              "      <td>S</td>\n",
              "    </tr>\n",
              "  </tbody>\n",
              "</table>\n",
              "</div>\n",
              "    <div class=\"colab-df-buttons\">\n",
              "\n",
              "  <div class=\"colab-df-container\">\n",
              "    <button class=\"colab-df-convert\" onclick=\"convertToInteractive('df-c1e71b0f-5e71-4efa-9a4f-8e7c7b4db116')\"\n",
              "            title=\"Convert this dataframe to an interactive table.\"\n",
              "            style=\"display:none;\">\n",
              "\n",
              "  <svg xmlns=\"http://www.w3.org/2000/svg\" height=\"24px\" viewBox=\"0 -960 960 960\">\n",
              "    <path d=\"M120-120v-720h720v720H120Zm60-500h600v-160H180v160Zm220 220h160v-160H400v160Zm0 220h160v-160H400v160ZM180-400h160v-160H180v160Zm440 0h160v-160H620v160ZM180-180h160v-160H180v160Zm440 0h160v-160H620v160Z\"/>\n",
              "  </svg>\n",
              "    </button>\n",
              "\n",
              "  <style>\n",
              "    .colab-df-container {\n",
              "      display:flex;\n",
              "      gap: 12px;\n",
              "    }\n",
              "\n",
              "    .colab-df-convert {\n",
              "      background-color: #E8F0FE;\n",
              "      border: none;\n",
              "      border-radius: 50%;\n",
              "      cursor: pointer;\n",
              "      display: none;\n",
              "      fill: #1967D2;\n",
              "      height: 32px;\n",
              "      padding: 0 0 0 0;\n",
              "      width: 32px;\n",
              "    }\n",
              "\n",
              "    .colab-df-convert:hover {\n",
              "      background-color: #E2EBFA;\n",
              "      box-shadow: 0px 1px 2px rgba(60, 64, 67, 0.3), 0px 1px 3px 1px rgba(60, 64, 67, 0.15);\n",
              "      fill: #174EA6;\n",
              "    }\n",
              "\n",
              "    .colab-df-buttons div {\n",
              "      margin-bottom: 4px;\n",
              "    }\n",
              "\n",
              "    [theme=dark] .colab-df-convert {\n",
              "      background-color: #3B4455;\n",
              "      fill: #D2E3FC;\n",
              "    }\n",
              "\n",
              "    [theme=dark] .colab-df-convert:hover {\n",
              "      background-color: #434B5C;\n",
              "      box-shadow: 0px 1px 3px 1px rgba(0, 0, 0, 0.15);\n",
              "      filter: drop-shadow(0px 1px 2px rgba(0, 0, 0, 0.3));\n",
              "      fill: #FFFFFF;\n",
              "    }\n",
              "  </style>\n",
              "\n",
              "    <script>\n",
              "      const buttonEl =\n",
              "        document.querySelector('#df-c1e71b0f-5e71-4efa-9a4f-8e7c7b4db116 button.colab-df-convert');\n",
              "      buttonEl.style.display =\n",
              "        google.colab.kernel.accessAllowed ? 'block' : 'none';\n",
              "\n",
              "      async function convertToInteractive(key) {\n",
              "        const element = document.querySelector('#df-c1e71b0f-5e71-4efa-9a4f-8e7c7b4db116');\n",
              "        const dataTable =\n",
              "          await google.colab.kernel.invokeFunction('convertToInteractive',\n",
              "                                                    [key], {});\n",
              "        if (!dataTable) return;\n",
              "\n",
              "        const docLinkHtml = 'Like what you see? Visit the ' +\n",
              "          '<a target=\"_blank\" href=https://colab.research.google.com/notebooks/data_table.ipynb>data table notebook</a>'\n",
              "          + ' to learn more about interactive tables.';\n",
              "        element.innerHTML = '';\n",
              "        dataTable['output_type'] = 'display_data';\n",
              "        await google.colab.output.renderOutput(dataTable, element);\n",
              "        const docLink = document.createElement('div');\n",
              "        docLink.innerHTML = docLinkHtml;\n",
              "        element.appendChild(docLink);\n",
              "      }\n",
              "    </script>\n",
              "  </div>\n",
              "\n",
              "\n",
              "<div id=\"df-f7b6a258-a737-4669-b7c0-835f0d09c786\">\n",
              "  <button class=\"colab-df-quickchart\" onclick=\"quickchart('df-f7b6a258-a737-4669-b7c0-835f0d09c786')\"\n",
              "            title=\"Suggest charts\"\n",
              "            style=\"display:none;\">\n",
              "\n",
              "<svg xmlns=\"http://www.w3.org/2000/svg\" height=\"24px\"viewBox=\"0 0 24 24\"\n",
              "     width=\"24px\">\n",
              "    <g>\n",
              "        <path d=\"M19 3H5c-1.1 0-2 .9-2 2v14c0 1.1.9 2 2 2h14c1.1 0 2-.9 2-2V5c0-1.1-.9-2-2-2zM9 17H7v-7h2v7zm4 0h-2V7h2v10zm4 0h-2v-4h2v4z\"/>\n",
              "    </g>\n",
              "</svg>\n",
              "  </button>\n",
              "\n",
              "<style>\n",
              "  .colab-df-quickchart {\n",
              "      --bg-color: #E8F0FE;\n",
              "      --fill-color: #1967D2;\n",
              "      --hover-bg-color: #E2EBFA;\n",
              "      --hover-fill-color: #174EA6;\n",
              "      --disabled-fill-color: #AAA;\n",
              "      --disabled-bg-color: #DDD;\n",
              "  }\n",
              "\n",
              "  [theme=dark] .colab-df-quickchart {\n",
              "      --bg-color: #3B4455;\n",
              "      --fill-color: #D2E3FC;\n",
              "      --hover-bg-color: #434B5C;\n",
              "      --hover-fill-color: #FFFFFF;\n",
              "      --disabled-bg-color: #3B4455;\n",
              "      --disabled-fill-color: #666;\n",
              "  }\n",
              "\n",
              "  .colab-df-quickchart {\n",
              "    background-color: var(--bg-color);\n",
              "    border: none;\n",
              "    border-radius: 50%;\n",
              "    cursor: pointer;\n",
              "    display: none;\n",
              "    fill: var(--fill-color);\n",
              "    height: 32px;\n",
              "    padding: 0;\n",
              "    width: 32px;\n",
              "  }\n",
              "\n",
              "  .colab-df-quickchart:hover {\n",
              "    background-color: var(--hover-bg-color);\n",
              "    box-shadow: 0 1px 2px rgba(60, 64, 67, 0.3), 0 1px 3px 1px rgba(60, 64, 67, 0.15);\n",
              "    fill: var(--button-hover-fill-color);\n",
              "  }\n",
              "\n",
              "  .colab-df-quickchart-complete:disabled,\n",
              "  .colab-df-quickchart-complete:disabled:hover {\n",
              "    background-color: var(--disabled-bg-color);\n",
              "    fill: var(--disabled-fill-color);\n",
              "    box-shadow: none;\n",
              "  }\n",
              "\n",
              "  .colab-df-spinner {\n",
              "    border: 2px solid var(--fill-color);\n",
              "    border-color: transparent;\n",
              "    border-bottom-color: var(--fill-color);\n",
              "    animation:\n",
              "      spin 1s steps(1) infinite;\n",
              "  }\n",
              "\n",
              "  @keyframes spin {\n",
              "    0% {\n",
              "      border-color: transparent;\n",
              "      border-bottom-color: var(--fill-color);\n",
              "      border-left-color: var(--fill-color);\n",
              "    }\n",
              "    20% {\n",
              "      border-color: transparent;\n",
              "      border-left-color: var(--fill-color);\n",
              "      border-top-color: var(--fill-color);\n",
              "    }\n",
              "    30% {\n",
              "      border-color: transparent;\n",
              "      border-left-color: var(--fill-color);\n",
              "      border-top-color: var(--fill-color);\n",
              "      border-right-color: var(--fill-color);\n",
              "    }\n",
              "    40% {\n",
              "      border-color: transparent;\n",
              "      border-right-color: var(--fill-color);\n",
              "      border-top-color: var(--fill-color);\n",
              "    }\n",
              "    60% {\n",
              "      border-color: transparent;\n",
              "      border-right-color: var(--fill-color);\n",
              "    }\n",
              "    80% {\n",
              "      border-color: transparent;\n",
              "      border-right-color: var(--fill-color);\n",
              "      border-bottom-color: var(--fill-color);\n",
              "    }\n",
              "    90% {\n",
              "      border-color: transparent;\n",
              "      border-bottom-color: var(--fill-color);\n",
              "    }\n",
              "  }\n",
              "</style>\n",
              "\n",
              "  <script>\n",
              "    async function quickchart(key) {\n",
              "      const quickchartButtonEl =\n",
              "        document.querySelector('#' + key + ' button');\n",
              "      quickchartButtonEl.disabled = true;  // To prevent multiple clicks.\n",
              "      quickchartButtonEl.classList.add('colab-df-spinner');\n",
              "      try {\n",
              "        const charts = await google.colab.kernel.invokeFunction(\n",
              "            'suggestCharts', [key], {});\n",
              "      } catch (error) {\n",
              "        console.error('Error during call to suggestCharts:', error);\n",
              "      }\n",
              "      quickchartButtonEl.classList.remove('colab-df-spinner');\n",
              "      quickchartButtonEl.classList.add('colab-df-quickchart-complete');\n",
              "    }\n",
              "    (() => {\n",
              "      let quickchartButtonEl =\n",
              "        document.querySelector('#df-f7b6a258-a737-4669-b7c0-835f0d09c786 button');\n",
              "      quickchartButtonEl.style.display =\n",
              "        google.colab.kernel.accessAllowed ? 'block' : 'none';\n",
              "    })();\n",
              "  </script>\n",
              "</div>\n",
              "\n",
              "    </div>\n",
              "  </div>\n"
            ],
            "application/vnd.google.colaboratory.intrinsic+json": {
              "type": "dataframe",
              "variable_name": "train",
              "summary": "{\n  \"name\": \"train\",\n  \"rows\": 891,\n  \"fields\": [\n    {\n      \"column\": \"PassengerId\",\n      \"properties\": {\n        \"dtype\": \"number\",\n        \"std\": 257,\n        \"min\": 1,\n        \"max\": 891,\n        \"num_unique_values\": 891,\n        \"samples\": [\n          710,\n          440,\n          841\n        ],\n        \"semantic_type\": \"\",\n        \"description\": \"\"\n      }\n    },\n    {\n      \"column\": \"Survived\",\n      \"properties\": {\n        \"dtype\": \"number\",\n        \"std\": 0,\n        \"min\": 0,\n        \"max\": 1,\n        \"num_unique_values\": 2,\n        \"samples\": [\n          1,\n          0\n        ],\n        \"semantic_type\": \"\",\n        \"description\": \"\"\n      }\n    },\n    {\n      \"column\": \"Pclass\",\n      \"properties\": {\n        \"dtype\": \"number\",\n        \"std\": 0,\n        \"min\": 1,\n        \"max\": 3,\n        \"num_unique_values\": 3,\n        \"samples\": [\n          3,\n          1\n        ],\n        \"semantic_type\": \"\",\n        \"description\": \"\"\n      }\n    },\n    {\n      \"column\": \"Name\",\n      \"properties\": {\n        \"dtype\": \"string\",\n        \"num_unique_values\": 891,\n        \"samples\": [\n          \"Moubarek, Master. Halim Gonios (\\\"William George\\\")\",\n          \"Kvillner, Mr. Johan Henrik Johannesson\"\n        ],\n        \"semantic_type\": \"\",\n        \"description\": \"\"\n      }\n    },\n    {\n      \"column\": \"Sex\",\n      \"properties\": {\n        \"dtype\": \"category\",\n        \"num_unique_values\": 2,\n        \"samples\": [\n          \"female\",\n          \"male\"\n        ],\n        \"semantic_type\": \"\",\n        \"description\": \"\"\n      }\n    },\n    {\n      \"column\": \"Age\",\n      \"properties\": {\n        \"dtype\": \"number\",\n        \"std\": 14.526497332334042,\n        \"min\": 0.42,\n        \"max\": 80.0,\n        \"num_unique_values\": 88,\n        \"samples\": [\n          0.75,\n          22.0\n        ],\n        \"semantic_type\": \"\",\n        \"description\": \"\"\n      }\n    },\n    {\n      \"column\": \"SibSp\",\n      \"properties\": {\n        \"dtype\": \"number\",\n        \"std\": 1,\n        \"min\": 0,\n        \"max\": 8,\n        \"num_unique_values\": 7,\n        \"samples\": [\n          1,\n          0\n        ],\n        \"semantic_type\": \"\",\n        \"description\": \"\"\n      }\n    },\n    {\n      \"column\": \"Parch\",\n      \"properties\": {\n        \"dtype\": \"number\",\n        \"std\": 0,\n        \"min\": 0,\n        \"max\": 6,\n        \"num_unique_values\": 7,\n        \"samples\": [\n          0,\n          1\n        ],\n        \"semantic_type\": \"\",\n        \"description\": \"\"\n      }\n    },\n    {\n      \"column\": \"Ticket\",\n      \"properties\": {\n        \"dtype\": \"string\",\n        \"num_unique_values\": 681,\n        \"samples\": [\n          \"11774\",\n          \"248740\"\n        ],\n        \"semantic_type\": \"\",\n        \"description\": \"\"\n      }\n    },\n    {\n      \"column\": \"Fare\",\n      \"properties\": {\n        \"dtype\": \"number\",\n        \"std\": 49.6934285971809,\n        \"min\": 0.0,\n        \"max\": 512.3292,\n        \"num_unique_values\": 248,\n        \"samples\": [\n          11.2417,\n          51.8625\n        ],\n        \"semantic_type\": \"\",\n        \"description\": \"\"\n      }\n    },\n    {\n      \"column\": \"Cabin\",\n      \"properties\": {\n        \"dtype\": \"category\",\n        \"num_unique_values\": 147,\n        \"samples\": [\n          \"D45\",\n          \"B49\"\n        ],\n        \"semantic_type\": \"\",\n        \"description\": \"\"\n      }\n    },\n    {\n      \"column\": \"Embarked\",\n      \"properties\": {\n        \"dtype\": \"category\",\n        \"num_unique_values\": 3,\n        \"samples\": [\n          \"S\",\n          \"C\"\n        ],\n        \"semantic_type\": \"\",\n        \"description\": \"\"\n      }\n    }\n  ]\n}"
            }
          },
          "metadata": {},
          "execution_count": 10
        }
      ]
    },
    {
      "cell_type": "code",
      "source": [
        "train.nunique()"
      ],
      "metadata": {
        "colab": {
          "base_uri": "https://localhost:8080/"
        },
        "id": "wagU_aTp0I8I",
        "outputId": "fe03c79c-ef41-476f-ae26-66f902d6a8d7"
      },
      "execution_count": 11,
      "outputs": [
        {
          "output_type": "execute_result",
          "data": {
            "text/plain": [
              "PassengerId    891\n",
              "Survived         2\n",
              "Pclass           3\n",
              "Name           891\n",
              "Sex              2\n",
              "Age             88\n",
              "SibSp            7\n",
              "Parch            7\n",
              "Ticket         681\n",
              "Fare           248\n",
              "Cabin          147\n",
              "Embarked         3\n",
              "dtype: int64"
            ]
          },
          "metadata": {},
          "execution_count": 11
        }
      ]
    },
    {
      "cell_type": "code",
      "source": [
        "train.describe()"
      ],
      "metadata": {
        "colab": {
          "base_uri": "https://localhost:8080/",
          "height": 300
        },
        "id": "q6vcbzMJ0Lh_",
        "outputId": "18180c35-7282-484e-e1a9-f23099f77a01"
      },
      "execution_count": 12,
      "outputs": [
        {
          "output_type": "execute_result",
          "data": {
            "text/plain": [
              "       PassengerId    Survived      Pclass         Age       SibSp  \\\n",
              "count   891.000000  891.000000  891.000000  714.000000  891.000000   \n",
              "mean    446.000000    0.383838    2.308642   29.699118    0.523008   \n",
              "std     257.353842    0.486592    0.836071   14.526497    1.102743   \n",
              "min       1.000000    0.000000    1.000000    0.420000    0.000000   \n",
              "25%     223.500000    0.000000    2.000000   20.125000    0.000000   \n",
              "50%     446.000000    0.000000    3.000000   28.000000    0.000000   \n",
              "75%     668.500000    1.000000    3.000000   38.000000    1.000000   \n",
              "max     891.000000    1.000000    3.000000   80.000000    8.000000   \n",
              "\n",
              "            Parch        Fare  \n",
              "count  891.000000  891.000000  \n",
              "mean     0.381594   32.204208  \n",
              "std      0.806057   49.693429  \n",
              "min      0.000000    0.000000  \n",
              "25%      0.000000    7.910400  \n",
              "50%      0.000000   14.454200  \n",
              "75%      0.000000   31.000000  \n",
              "max      6.000000  512.329200  "
            ],
            "text/html": [
              "\n",
              "  <div id=\"df-58969d3f-642a-49f1-8bb4-b44dfc490042\" class=\"colab-df-container\">\n",
              "    <div>\n",
              "<style scoped>\n",
              "    .dataframe tbody tr th:only-of-type {\n",
              "        vertical-align: middle;\n",
              "    }\n",
              "\n",
              "    .dataframe tbody tr th {\n",
              "        vertical-align: top;\n",
              "    }\n",
              "\n",
              "    .dataframe thead th {\n",
              "        text-align: right;\n",
              "    }\n",
              "</style>\n",
              "<table border=\"1\" class=\"dataframe\">\n",
              "  <thead>\n",
              "    <tr style=\"text-align: right;\">\n",
              "      <th></th>\n",
              "      <th>PassengerId</th>\n",
              "      <th>Survived</th>\n",
              "      <th>Pclass</th>\n",
              "      <th>Age</th>\n",
              "      <th>SibSp</th>\n",
              "      <th>Parch</th>\n",
              "      <th>Fare</th>\n",
              "    </tr>\n",
              "  </thead>\n",
              "  <tbody>\n",
              "    <tr>\n",
              "      <th>count</th>\n",
              "      <td>891.000000</td>\n",
              "      <td>891.000000</td>\n",
              "      <td>891.000000</td>\n",
              "      <td>714.000000</td>\n",
              "      <td>891.000000</td>\n",
              "      <td>891.000000</td>\n",
              "      <td>891.000000</td>\n",
              "    </tr>\n",
              "    <tr>\n",
              "      <th>mean</th>\n",
              "      <td>446.000000</td>\n",
              "      <td>0.383838</td>\n",
              "      <td>2.308642</td>\n",
              "      <td>29.699118</td>\n",
              "      <td>0.523008</td>\n",
              "      <td>0.381594</td>\n",
              "      <td>32.204208</td>\n",
              "    </tr>\n",
              "    <tr>\n",
              "      <th>std</th>\n",
              "      <td>257.353842</td>\n",
              "      <td>0.486592</td>\n",
              "      <td>0.836071</td>\n",
              "      <td>14.526497</td>\n",
              "      <td>1.102743</td>\n",
              "      <td>0.806057</td>\n",
              "      <td>49.693429</td>\n",
              "    </tr>\n",
              "    <tr>\n",
              "      <th>min</th>\n",
              "      <td>1.000000</td>\n",
              "      <td>0.000000</td>\n",
              "      <td>1.000000</td>\n",
              "      <td>0.420000</td>\n",
              "      <td>0.000000</td>\n",
              "      <td>0.000000</td>\n",
              "      <td>0.000000</td>\n",
              "    </tr>\n",
              "    <tr>\n",
              "      <th>25%</th>\n",
              "      <td>223.500000</td>\n",
              "      <td>0.000000</td>\n",
              "      <td>2.000000</td>\n",
              "      <td>20.125000</td>\n",
              "      <td>0.000000</td>\n",
              "      <td>0.000000</td>\n",
              "      <td>7.910400</td>\n",
              "    </tr>\n",
              "    <tr>\n",
              "      <th>50%</th>\n",
              "      <td>446.000000</td>\n",
              "      <td>0.000000</td>\n",
              "      <td>3.000000</td>\n",
              "      <td>28.000000</td>\n",
              "      <td>0.000000</td>\n",
              "      <td>0.000000</td>\n",
              "      <td>14.454200</td>\n",
              "    </tr>\n",
              "    <tr>\n",
              "      <th>75%</th>\n",
              "      <td>668.500000</td>\n",
              "      <td>1.000000</td>\n",
              "      <td>3.000000</td>\n",
              "      <td>38.000000</td>\n",
              "      <td>1.000000</td>\n",
              "      <td>0.000000</td>\n",
              "      <td>31.000000</td>\n",
              "    </tr>\n",
              "    <tr>\n",
              "      <th>max</th>\n",
              "      <td>891.000000</td>\n",
              "      <td>1.000000</td>\n",
              "      <td>3.000000</td>\n",
              "      <td>80.000000</td>\n",
              "      <td>8.000000</td>\n",
              "      <td>6.000000</td>\n",
              "      <td>512.329200</td>\n",
              "    </tr>\n",
              "  </tbody>\n",
              "</table>\n",
              "</div>\n",
              "    <div class=\"colab-df-buttons\">\n",
              "\n",
              "  <div class=\"colab-df-container\">\n",
              "    <button class=\"colab-df-convert\" onclick=\"convertToInteractive('df-58969d3f-642a-49f1-8bb4-b44dfc490042')\"\n",
              "            title=\"Convert this dataframe to an interactive table.\"\n",
              "            style=\"display:none;\">\n",
              "\n",
              "  <svg xmlns=\"http://www.w3.org/2000/svg\" height=\"24px\" viewBox=\"0 -960 960 960\">\n",
              "    <path d=\"M120-120v-720h720v720H120Zm60-500h600v-160H180v160Zm220 220h160v-160H400v160Zm0 220h160v-160H400v160ZM180-400h160v-160H180v160Zm440 0h160v-160H620v160ZM180-180h160v-160H180v160Zm440 0h160v-160H620v160Z\"/>\n",
              "  </svg>\n",
              "    </button>\n",
              "\n",
              "  <style>\n",
              "    .colab-df-container {\n",
              "      display:flex;\n",
              "      gap: 12px;\n",
              "    }\n",
              "\n",
              "    .colab-df-convert {\n",
              "      background-color: #E8F0FE;\n",
              "      border: none;\n",
              "      border-radius: 50%;\n",
              "      cursor: pointer;\n",
              "      display: none;\n",
              "      fill: #1967D2;\n",
              "      height: 32px;\n",
              "      padding: 0 0 0 0;\n",
              "      width: 32px;\n",
              "    }\n",
              "\n",
              "    .colab-df-convert:hover {\n",
              "      background-color: #E2EBFA;\n",
              "      box-shadow: 0px 1px 2px rgba(60, 64, 67, 0.3), 0px 1px 3px 1px rgba(60, 64, 67, 0.15);\n",
              "      fill: #174EA6;\n",
              "    }\n",
              "\n",
              "    .colab-df-buttons div {\n",
              "      margin-bottom: 4px;\n",
              "    }\n",
              "\n",
              "    [theme=dark] .colab-df-convert {\n",
              "      background-color: #3B4455;\n",
              "      fill: #D2E3FC;\n",
              "    }\n",
              "\n",
              "    [theme=dark] .colab-df-convert:hover {\n",
              "      background-color: #434B5C;\n",
              "      box-shadow: 0px 1px 3px 1px rgba(0, 0, 0, 0.15);\n",
              "      filter: drop-shadow(0px 1px 2px rgba(0, 0, 0, 0.3));\n",
              "      fill: #FFFFFF;\n",
              "    }\n",
              "  </style>\n",
              "\n",
              "    <script>\n",
              "      const buttonEl =\n",
              "        document.querySelector('#df-58969d3f-642a-49f1-8bb4-b44dfc490042 button.colab-df-convert');\n",
              "      buttonEl.style.display =\n",
              "        google.colab.kernel.accessAllowed ? 'block' : 'none';\n",
              "\n",
              "      async function convertToInteractive(key) {\n",
              "        const element = document.querySelector('#df-58969d3f-642a-49f1-8bb4-b44dfc490042');\n",
              "        const dataTable =\n",
              "          await google.colab.kernel.invokeFunction('convertToInteractive',\n",
              "                                                    [key], {});\n",
              "        if (!dataTable) return;\n",
              "\n",
              "        const docLinkHtml = 'Like what you see? Visit the ' +\n",
              "          '<a target=\"_blank\" href=https://colab.research.google.com/notebooks/data_table.ipynb>data table notebook</a>'\n",
              "          + ' to learn more about interactive tables.';\n",
              "        element.innerHTML = '';\n",
              "        dataTable['output_type'] = 'display_data';\n",
              "        await google.colab.output.renderOutput(dataTable, element);\n",
              "        const docLink = document.createElement('div');\n",
              "        docLink.innerHTML = docLinkHtml;\n",
              "        element.appendChild(docLink);\n",
              "      }\n",
              "    </script>\n",
              "  </div>\n",
              "\n",
              "\n",
              "<div id=\"df-905884d9-3573-4c78-879e-1459ed624388\">\n",
              "  <button class=\"colab-df-quickchart\" onclick=\"quickchart('df-905884d9-3573-4c78-879e-1459ed624388')\"\n",
              "            title=\"Suggest charts\"\n",
              "            style=\"display:none;\">\n",
              "\n",
              "<svg xmlns=\"http://www.w3.org/2000/svg\" height=\"24px\"viewBox=\"0 0 24 24\"\n",
              "     width=\"24px\">\n",
              "    <g>\n",
              "        <path d=\"M19 3H5c-1.1 0-2 .9-2 2v14c0 1.1.9 2 2 2h14c1.1 0 2-.9 2-2V5c0-1.1-.9-2-2-2zM9 17H7v-7h2v7zm4 0h-2V7h2v10zm4 0h-2v-4h2v4z\"/>\n",
              "    </g>\n",
              "</svg>\n",
              "  </button>\n",
              "\n",
              "<style>\n",
              "  .colab-df-quickchart {\n",
              "      --bg-color: #E8F0FE;\n",
              "      --fill-color: #1967D2;\n",
              "      --hover-bg-color: #E2EBFA;\n",
              "      --hover-fill-color: #174EA6;\n",
              "      --disabled-fill-color: #AAA;\n",
              "      --disabled-bg-color: #DDD;\n",
              "  }\n",
              "\n",
              "  [theme=dark] .colab-df-quickchart {\n",
              "      --bg-color: #3B4455;\n",
              "      --fill-color: #D2E3FC;\n",
              "      --hover-bg-color: #434B5C;\n",
              "      --hover-fill-color: #FFFFFF;\n",
              "      --disabled-bg-color: #3B4455;\n",
              "      --disabled-fill-color: #666;\n",
              "  }\n",
              "\n",
              "  .colab-df-quickchart {\n",
              "    background-color: var(--bg-color);\n",
              "    border: none;\n",
              "    border-radius: 50%;\n",
              "    cursor: pointer;\n",
              "    display: none;\n",
              "    fill: var(--fill-color);\n",
              "    height: 32px;\n",
              "    padding: 0;\n",
              "    width: 32px;\n",
              "  }\n",
              "\n",
              "  .colab-df-quickchart:hover {\n",
              "    background-color: var(--hover-bg-color);\n",
              "    box-shadow: 0 1px 2px rgba(60, 64, 67, 0.3), 0 1px 3px 1px rgba(60, 64, 67, 0.15);\n",
              "    fill: var(--button-hover-fill-color);\n",
              "  }\n",
              "\n",
              "  .colab-df-quickchart-complete:disabled,\n",
              "  .colab-df-quickchart-complete:disabled:hover {\n",
              "    background-color: var(--disabled-bg-color);\n",
              "    fill: var(--disabled-fill-color);\n",
              "    box-shadow: none;\n",
              "  }\n",
              "\n",
              "  .colab-df-spinner {\n",
              "    border: 2px solid var(--fill-color);\n",
              "    border-color: transparent;\n",
              "    border-bottom-color: var(--fill-color);\n",
              "    animation:\n",
              "      spin 1s steps(1) infinite;\n",
              "  }\n",
              "\n",
              "  @keyframes spin {\n",
              "    0% {\n",
              "      border-color: transparent;\n",
              "      border-bottom-color: var(--fill-color);\n",
              "      border-left-color: var(--fill-color);\n",
              "    }\n",
              "    20% {\n",
              "      border-color: transparent;\n",
              "      border-left-color: var(--fill-color);\n",
              "      border-top-color: var(--fill-color);\n",
              "    }\n",
              "    30% {\n",
              "      border-color: transparent;\n",
              "      border-left-color: var(--fill-color);\n",
              "      border-top-color: var(--fill-color);\n",
              "      border-right-color: var(--fill-color);\n",
              "    }\n",
              "    40% {\n",
              "      border-color: transparent;\n",
              "      border-right-color: var(--fill-color);\n",
              "      border-top-color: var(--fill-color);\n",
              "    }\n",
              "    60% {\n",
              "      border-color: transparent;\n",
              "      border-right-color: var(--fill-color);\n",
              "    }\n",
              "    80% {\n",
              "      border-color: transparent;\n",
              "      border-right-color: var(--fill-color);\n",
              "      border-bottom-color: var(--fill-color);\n",
              "    }\n",
              "    90% {\n",
              "      border-color: transparent;\n",
              "      border-bottom-color: var(--fill-color);\n",
              "    }\n",
              "  }\n",
              "</style>\n",
              "\n",
              "  <script>\n",
              "    async function quickchart(key) {\n",
              "      const quickchartButtonEl =\n",
              "        document.querySelector('#' + key + ' button');\n",
              "      quickchartButtonEl.disabled = true;  // To prevent multiple clicks.\n",
              "      quickchartButtonEl.classList.add('colab-df-spinner');\n",
              "      try {\n",
              "        const charts = await google.colab.kernel.invokeFunction(\n",
              "            'suggestCharts', [key], {});\n",
              "      } catch (error) {\n",
              "        console.error('Error during call to suggestCharts:', error);\n",
              "      }\n",
              "      quickchartButtonEl.classList.remove('colab-df-spinner');\n",
              "      quickchartButtonEl.classList.add('colab-df-quickchart-complete');\n",
              "    }\n",
              "    (() => {\n",
              "      let quickchartButtonEl =\n",
              "        document.querySelector('#df-905884d9-3573-4c78-879e-1459ed624388 button');\n",
              "      quickchartButtonEl.style.display =\n",
              "        google.colab.kernel.accessAllowed ? 'block' : 'none';\n",
              "    })();\n",
              "  </script>\n",
              "</div>\n",
              "\n",
              "    </div>\n",
              "  </div>\n"
            ],
            "application/vnd.google.colaboratory.intrinsic+json": {
              "type": "dataframe",
              "summary": "{\n  \"name\": \"train\",\n  \"rows\": 8,\n  \"fields\": [\n    {\n      \"column\": \"PassengerId\",\n      \"properties\": {\n        \"dtype\": \"number\",\n        \"std\": 320.8159711429855,\n        \"min\": 1.0,\n        \"max\": 891.0,\n        \"num_unique_values\": 6,\n        \"samples\": [\n          891.0,\n          446.0,\n          668.5\n        ],\n        \"semantic_type\": \"\",\n        \"description\": \"\"\n      }\n    },\n    {\n      \"column\": \"Survived\",\n      \"properties\": {\n        \"dtype\": \"number\",\n        \"std\": 314.8713661874558,\n        \"min\": 0.0,\n        \"max\": 891.0,\n        \"num_unique_values\": 5,\n        \"samples\": [\n          0.3838383838383838,\n          1.0,\n          0.4865924542648575\n        ],\n        \"semantic_type\": \"\",\n        \"description\": \"\"\n      }\n    },\n    {\n      \"column\": \"Pclass\",\n      \"properties\": {\n        \"dtype\": \"number\",\n        \"std\": 314.2523437079694,\n        \"min\": 0.836071240977049,\n        \"max\": 891.0,\n        \"num_unique_values\": 6,\n        \"samples\": [\n          891.0,\n          2.308641975308642,\n          3.0\n        ],\n        \"semantic_type\": \"\",\n        \"description\": \"\"\n      }\n    },\n    {\n      \"column\": \"Age\",\n      \"properties\": {\n        \"dtype\": \"number\",\n        \"std\": 242.9056731818781,\n        \"min\": 0.42,\n        \"max\": 714.0,\n        \"num_unique_values\": 8,\n        \"samples\": [\n          29.69911764705882,\n          28.0,\n          714.0\n        ],\n        \"semantic_type\": \"\",\n        \"description\": \"\"\n      }\n    },\n    {\n      \"column\": \"SibSp\",\n      \"properties\": {\n        \"dtype\": \"number\",\n        \"std\": 314.4908277465442,\n        \"min\": 0.0,\n        \"max\": 891.0,\n        \"num_unique_values\": 6,\n        \"samples\": [\n          891.0,\n          0.5230078563411896,\n          8.0\n        ],\n        \"semantic_type\": \"\",\n        \"description\": \"\"\n      }\n    },\n    {\n      \"column\": \"Parch\",\n      \"properties\": {\n        \"dtype\": \"number\",\n        \"std\": 314.65971717879,\n        \"min\": 0.0,\n        \"max\": 891.0,\n        \"num_unique_values\": 5,\n        \"samples\": [\n          0.38159371492704824,\n          6.0,\n          0.8060572211299483\n        ],\n        \"semantic_type\": \"\",\n        \"description\": \"\"\n      }\n    },\n    {\n      \"column\": \"Fare\",\n      \"properties\": {\n        \"dtype\": \"number\",\n        \"std\": 330.6256632228578,\n        \"min\": 0.0,\n        \"max\": 891.0,\n        \"num_unique_values\": 8,\n        \"samples\": [\n          32.204207968574636,\n          14.4542,\n          891.0\n        ],\n        \"semantic_type\": \"\",\n        \"description\": \"\"\n      }\n    }\n  ]\n}"
            }
          },
          "metadata": {},
          "execution_count": 12
        }
      ]
    },
    {
      "cell_type": "code",
      "source": [
        "train.info()"
      ],
      "metadata": {
        "colab": {
          "base_uri": "https://localhost:8080/"
        },
        "id": "SwH94Dv70Pgz",
        "outputId": "578ad1fd-22ff-48e8-d2e0-ff848e765cc7"
      },
      "execution_count": 54,
      "outputs": [
        {
          "output_type": "stream",
          "name": "stdout",
          "text": [
            "<class 'pandas.core.frame.DataFrame'>\n",
            "RangeIndex: 891 entries, 0 to 890\n",
            "Data columns (total 5 columns):\n",
            " #   Column       Non-Null Count  Dtype \n",
            "---  ------       --------------  ----- \n",
            " 0   PassengerId  891 non-null    int64 \n",
            " 1   Survived     891 non-null    int64 \n",
            " 2   Pclass       891 non-null    int64 \n",
            " 3   Sex          891 non-null    object\n",
            " 4   Fams         891 non-null    int64 \n",
            "dtypes: int64(4), object(1)\n",
            "memory usage: 34.9+ KB\n"
          ]
        }
      ]
    },
    {
      "cell_type": "code",
      "source": [
        "train['Fams'] = train.SibSp + train.Parch\n",
        "train.loc[ train.Sex == 'male', 'Sex'] = 0\n",
        "train.loc[ train.Sex == 'female', 'Sex'] = 1\n",
        "train.drop(['SibSp', 'Parch', 'Name', 'Ticket', 'Fare', 'Cabin', 'Embarked', 'Age' ], axis=1, inplace=True)\n",
        "\n",
        "test['Fams'] = test.SibSp + test.Parch\n",
        "test.loc[ test.Sex == 'male', 'Sex'] = 0\n",
        "test.loc[ test.Sex == 'female', 'Sex'] = 1\n",
        "test.drop(['SibSp', 'Parch', 'Name', 'Ticket', 'Fare', 'Cabin', 'Embarked', 'Age' ], axis=1, inplace=True)"
      ],
      "metadata": {
        "id": "qPv_q5U10b61"
      },
      "execution_count": 53,
      "outputs": []
    },
    {
      "cell_type": "code",
      "source": [
        "train.dropna(inplace=True)\n",
        "train.reset_index(inplace=True, drop=True)\n",
        "test.dropna(inplace=True)\n",
        "test.reset_index(inplace=True, drop=True)"
      ],
      "metadata": {
        "id": "SrP8G9Rb3xBq"
      },
      "execution_count": 49,
      "outputs": []
    },
    {
      "cell_type": "code",
      "source": [
        "train.info()"
      ],
      "metadata": {
        "colab": {
          "base_uri": "https://localhost:8080/"
        },
        "id": "DracEOQG1cUP",
        "outputId": "bc021fb5-d16d-4524-a8d2-e95a84730d54"
      },
      "execution_count": 32,
      "outputs": [
        {
          "output_type": "stream",
          "name": "stdout",
          "text": [
            "<class 'pandas.core.frame.DataFrame'>\n",
            "RangeIndex: 714 entries, 0 to 713\n",
            "Data columns (total 6 columns):\n",
            " #   Column       Non-Null Count  Dtype  \n",
            "---  ------       --------------  -----  \n",
            " 0   PassengerId  714 non-null    int64  \n",
            " 1   Survived     714 non-null    int64  \n",
            " 2   Pclass       714 non-null    int64  \n",
            " 3   Sex          714 non-null    object \n",
            " 4   Age          714 non-null    float64\n",
            " 5   Fams         714 non-null    int64  \n",
            "dtypes: float64(1), int64(4), object(1)\n",
            "memory usage: 33.6+ KB\n"
          ]
        }
      ]
    },
    {
      "cell_type": "code",
      "source": [
        "rf =RandomForestClassifier(n_estimators=100)\n",
        "rf.fit(train.drop('Survived', axis=1), train['Survived'])"
      ],
      "metadata": {
        "colab": {
          "base_uri": "https://localhost:8080/",
          "height": 75
        },
        "id": "jmMCBrWU2j5y",
        "outputId": "e84448c0-6f52-4070-b60f-a8472512b152"
      },
      "execution_count": 55,
      "outputs": [
        {
          "output_type": "execute_result",
          "data": {
            "text/plain": [
              "RandomForestClassifier()"
            ],
            "text/html": [
              "<style>#sk-container-id-2 {color: black;background-color: white;}#sk-container-id-2 pre{padding: 0;}#sk-container-id-2 div.sk-toggleable {background-color: white;}#sk-container-id-2 label.sk-toggleable__label {cursor: pointer;display: block;width: 100%;margin-bottom: 0;padding: 0.3em;box-sizing: border-box;text-align: center;}#sk-container-id-2 label.sk-toggleable__label-arrow:before {content: \"▸\";float: left;margin-right: 0.25em;color: #696969;}#sk-container-id-2 label.sk-toggleable__label-arrow:hover:before {color: black;}#sk-container-id-2 div.sk-estimator:hover label.sk-toggleable__label-arrow:before {color: black;}#sk-container-id-2 div.sk-toggleable__content {max-height: 0;max-width: 0;overflow: hidden;text-align: left;background-color: #f0f8ff;}#sk-container-id-2 div.sk-toggleable__content pre {margin: 0.2em;color: black;border-radius: 0.25em;background-color: #f0f8ff;}#sk-container-id-2 input.sk-toggleable__control:checked~div.sk-toggleable__content {max-height: 200px;max-width: 100%;overflow: auto;}#sk-container-id-2 input.sk-toggleable__control:checked~label.sk-toggleable__label-arrow:before {content: \"▾\";}#sk-container-id-2 div.sk-estimator input.sk-toggleable__control:checked~label.sk-toggleable__label {background-color: #d4ebff;}#sk-container-id-2 div.sk-label input.sk-toggleable__control:checked~label.sk-toggleable__label {background-color: #d4ebff;}#sk-container-id-2 input.sk-hidden--visually {border: 0;clip: rect(1px 1px 1px 1px);clip: rect(1px, 1px, 1px, 1px);height: 1px;margin: -1px;overflow: hidden;padding: 0;position: absolute;width: 1px;}#sk-container-id-2 div.sk-estimator {font-family: monospace;background-color: #f0f8ff;border: 1px dotted black;border-radius: 0.25em;box-sizing: border-box;margin-bottom: 0.5em;}#sk-container-id-2 div.sk-estimator:hover {background-color: #d4ebff;}#sk-container-id-2 div.sk-parallel-item::after {content: \"\";width: 100%;border-bottom: 1px solid gray;flex-grow: 1;}#sk-container-id-2 div.sk-label:hover label.sk-toggleable__label {background-color: #d4ebff;}#sk-container-id-2 div.sk-serial::before {content: \"\";position: absolute;border-left: 1px solid gray;box-sizing: border-box;top: 0;bottom: 0;left: 50%;z-index: 0;}#sk-container-id-2 div.sk-serial {display: flex;flex-direction: column;align-items: center;background-color: white;padding-right: 0.2em;padding-left: 0.2em;position: relative;}#sk-container-id-2 div.sk-item {position: relative;z-index: 1;}#sk-container-id-2 div.sk-parallel {display: flex;align-items: stretch;justify-content: center;background-color: white;position: relative;}#sk-container-id-2 div.sk-item::before, #sk-container-id-2 div.sk-parallel-item::before {content: \"\";position: absolute;border-left: 1px solid gray;box-sizing: border-box;top: 0;bottom: 0;left: 50%;z-index: -1;}#sk-container-id-2 div.sk-parallel-item {display: flex;flex-direction: column;z-index: 1;position: relative;background-color: white;}#sk-container-id-2 div.sk-parallel-item:first-child::after {align-self: flex-end;width: 50%;}#sk-container-id-2 div.sk-parallel-item:last-child::after {align-self: flex-start;width: 50%;}#sk-container-id-2 div.sk-parallel-item:only-child::after {width: 0;}#sk-container-id-2 div.sk-dashed-wrapped {border: 1px dashed gray;margin: 0 0.4em 0.5em 0.4em;box-sizing: border-box;padding-bottom: 0.4em;background-color: white;}#sk-container-id-2 div.sk-label label {font-family: monospace;font-weight: bold;display: inline-block;line-height: 1.2em;}#sk-container-id-2 div.sk-label-container {text-align: center;}#sk-container-id-2 div.sk-container {/* jupyter's `normalize.less` sets `[hidden] { display: none; }` but bootstrap.min.css set `[hidden] { display: none !important; }` so we also need the `!important` here to be able to override the default hidden behavior on the sphinx rendered scikit-learn.org. See: https://github.com/scikit-learn/scikit-learn/issues/21755 */display: inline-block !important;position: relative;}#sk-container-id-2 div.sk-text-repr-fallback {display: none;}</style><div id=\"sk-container-id-2\" class=\"sk-top-container\"><div class=\"sk-text-repr-fallback\"><pre>RandomForestClassifier()</pre><b>In a Jupyter environment, please rerun this cell to show the HTML representation or trust the notebook. <br />On GitHub, the HTML representation is unable to render, please try loading this page with nbviewer.org.</b></div><div class=\"sk-container\" hidden><div class=\"sk-item\"><div class=\"sk-estimator sk-toggleable\"><input class=\"sk-toggleable__control sk-hidden--visually\" id=\"sk-estimator-id-2\" type=\"checkbox\" checked><label for=\"sk-estimator-id-2\" class=\"sk-toggleable__label sk-toggleable__label-arrow\">RandomForestClassifier</label><div class=\"sk-toggleable__content\"><pre>RandomForestClassifier()</pre></div></div></div></div></div>"
            ]
          },
          "metadata": {},
          "execution_count": 55
        }
      ]
    },
    {
      "cell_type": "code",
      "source": [
        "y_pred = rf.predict(test)\n",
        "mse = mean_squared_error(y_test['Survived'], y_pred)\n",
        "r2 = r2_score(y_test['Survived'], y_pred)\n",
        "print(f'MSE: {mse}')\n",
        "print(f'R2: {r2}')"
      ],
      "metadata": {
        "colab": {
          "base_uri": "https://localhost:8080/"
        },
        "id": "Uvxj4SBn3dSt",
        "outputId": "45ff55f7-1af4-425c-d7f2-ee523bf2a16f"
      },
      "execution_count": 56,
      "outputs": [
        {
          "output_type": "stream",
          "name": "stdout",
          "text": [
            "MSE: 0.3229665071770335\n",
            "R2: -0.3956766917293233\n"
          ]
        }
      ]
    },
    {
      "cell_type": "code",
      "source": [],
      "metadata": {
        "id": "4hi3hoZ25iJg"
      },
      "execution_count": null,
      "outputs": []
    },
    {
      "cell_type": "markdown",
      "source": [
        "#### **Explicación de resultados**"
      ],
      "metadata": {
        "id": "5kREYvLgQMji"
      }
    },
    {
      "cell_type": "markdown",
      "source": [
        "**R.** Dado que el MSE es cercano a 0, podríamos decir que el modelo tiene cierta fiabilidad. Sin embargo, el R2 negativo nos habla de que la prediccion y la realidad no tienen relación."
      ],
      "metadata": {
        "id": "9uAqZmjiQRb1"
      }
    }
  ]
}